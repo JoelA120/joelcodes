{
 "cells": [
  {
   "cell_type": "code",
   "execution_count": 24,
   "id": "800254d7",
   "metadata": {},
   "outputs": [],
   "source": [
    "import numpy as np\n",
    "import pandas as pd"
   ]
  },
  {
   "cell_type": "code",
   "execution_count": 25,
   "id": "77efbbe7",
   "metadata": {},
   "outputs": [
    {
     "name": "stdout",
     "output_type": "stream",
     "text": [
      "[[ 2  4  6]\n",
      " [ 8 10 12]]\n"
     ]
    }
   ],
   "source": [
    "matrix = np.array([[1,2,3], [4,5,6]])\n",
    "matrixA = 2 * matrix\n",
    "print(matrixA)"
   ]
  },
  {
   "cell_type": "code",
   "execution_count": 26,
   "id": "c06b442c",
   "metadata": {},
   "outputs": [
    {
     "name": "stdout",
     "output_type": "stream",
     "text": [
      "[[1. 0. 0.]\n",
      " [0. 1. 0.]\n",
      " [0. 0. 1.]]\n"
     ]
    }
   ],
   "source": [
    "identity_matrix = np.identity(3)\n",
    "print(identity_matrix)"
   ]
  },
  {
   "cell_type": "code",
   "execution_count": 27,
   "id": "d84b8b79",
   "metadata": {},
   "outputs": [
    {
     "name": "stdout",
     "output_type": "stream",
     "text": [
      "[ 0  1  2  3  4  5  6  7  8  9 10 11 12 13 14 15 16 17 18 19 20 21 22 23\n",
      " 24 25 26 27]\n"
     ]
    }
   ],
   "source": [
    "array1 = np.arange(28)\n",
    "print(array1)"
   ]
  },
  {
   "cell_type": "code",
   "execution_count": 28,
   "id": "4d8159c8",
   "metadata": {},
   "outputs": [
    {
     "name": "stdout",
     "output_type": "stream",
     "text": [
      "[[[ 0  1  2  3  4  5  6]\n",
      "  [ 7  8  9 10 11 12 13]]\n",
      "\n",
      " [[14 15 16 17 18 19 20]\n",
      "  [21 22 23 24 25 26 27]]]\n"
     ]
    }
   ],
   "source": [
    "array2 = array1.reshape(2,2,7)\n",
    "print(array2)"
   ]
  },
  {
   "cell_type": "code",
   "execution_count": 29,
   "id": "10c1a5d4",
   "metadata": {},
   "outputs": [
    {
     "name": "stdout",
     "output_type": "stream",
     "text": [
      "[[1 2 3]\n",
      " [4 5 6]]\n",
      "[[ 7  8  9]\n",
      " [10 11 12]]\n"
     ]
    }
   ],
   "source": [
    "array_1 = np.arange(1,7).reshape(2,3)\n",
    "array_2 = np.arange(7,13).reshape(2,3)\n",
    "print(array_1)\n",
    "print(array_2)"
   ]
  },
  {
   "cell_type": "code",
   "execution_count": 30,
   "id": "e2eb1534",
   "metadata": {},
   "outputs": [
    {
     "name": "stdout",
     "output_type": "stream",
     "text": [
      "Horizontal Stack\n",
      "[[ 1  2  3  7  8  9]\n",
      " [ 4  5  6 10 11 12]]\n",
      "Vertical Stack\n",
      "[[ 1  2  3]\n",
      " [ 4  5  6]\n",
      " [ 7  8  9]\n",
      " [10 11 12]]\n"
     ]
    }
   ],
   "source": [
    "horizontal_stack = np.hstack((array_1,array_2))\n",
    "vertical_stack = np.vstack((array_1,array_2))\n",
    "print(\"Horizontal Stack\")\n",
    "print(horizontal_stack)\n",
    "print(\"Vertical Stack\")\n",
    "print(vertical_stack)"
   ]
  },
  {
   "cell_type": "code",
   "execution_count": 31,
   "id": "5b6d930f",
   "metadata": {},
   "outputs": [
    {
     "name": "stdout",
     "output_type": "stream",
     "text": [
      "[  0   5  10  15  20  25  30  35  40  45  50  55  60  65  70  75  80  85\n",
      "  90  95 100]\n"
     ]
    }
   ],
   "source": [
    "sequence = np.arange(0,105,5)\n",
    "print(sequence)"
   ]
  },
  {
   "cell_type": "code",
   "execution_count": 32,
   "id": "118a459c",
   "metadata": {},
   "outputs": [
    {
     "name": "stdout",
     "output_type": "stream",
     "text": [
      "    Names\n",
      "0    Joel\n",
      "1  George\n",
      "2   James\n",
      "3   Grace\n",
      "4  Edwina\n"
     ]
    }
   ],
   "source": [
    "students =pd.DataFrame({'Names':[\"Joel\",\"George\",\"James\",\"Grace\",\"Edwina\"]})\n",
    "print(students)"
   ]
  },
  {
   "cell_type": "code",
   "execution_count": 34,
   "id": "b8e2631c",
   "metadata": {},
   "outputs": [],
   "source": [
    "team_names = [\"Aduana Stars\",\"Accra Hearts of Oaks\",\"Kumasi Asante Kotoko\",\"Bechem United\",\"Accra Lions\",\"Bibiani Gold Stars\",\n",
    "             \"Berekum Chelsea\",\"Medeama\",\"Dreams FC\",\"FC Samartex\",\"Accra Great Olympics\",\"Real Tamale United\",\n",
    "            \"Nsoatreman\",\"Legon Cities\",\"Karela United\",\"King Faisal\",\"Tamale City\",\"Kotoku Royals\"]\n",
    "\n",
    "goals_scored = [[0,0,1,0,2,2,1,1,0,0,1,1,0,1,1,0,1,3],\n",
    "                [2,0,0,3,1,0,1,2,1,3,0,0,0,0,0,0,1,1],\n",
    "                [0,3,0,0,2,2,1,0,2,2,1,0,2,1,2,1,0,1],\n",
    "                [2,0,4,0,0,2,1,2,1,0,1,1,0,3,0,1,3,0],\n",
    "                [1,0,0,6,3,2,1,3,0,0,0,2,2,0,1,2,0,3]]\n",
    "\n",
    "teams = {'Teams':team_names, 'Match 1':goals_scored[0], 'Match 2':goals_scored[1], 'Match 3':goals_scored[2],\n",
    "           'Match 4':goals_scored[3], 'Match 5':goals_scored[4]}\n",
    "teams_1 = pd.DataFrame(teams)"
   ]
  },
  {
   "cell_type": "code",
   "execution_count": 35,
   "id": "9ac63aa2",
   "metadata": {},
   "outputs": [
    {
     "data": {
      "text/html": [
       "<div>\n",
       "<style scoped>\n",
       "    .dataframe tbody tr th:only-of-type {\n",
       "        vertical-align: middle;\n",
       "    }\n",
       "\n",
       "    .dataframe tbody tr th {\n",
       "        vertical-align: top;\n",
       "    }\n",
       "\n",
       "    .dataframe thead th {\n",
       "        text-align: right;\n",
       "    }\n",
       "</style>\n",
       "<table border=\"1\" class=\"dataframe\">\n",
       "  <thead>\n",
       "    <tr style=\"text-align: right;\">\n",
       "      <th></th>\n",
       "      <th>Countries</th>\n",
       "      <th>Capital City</th>\n",
       "      <th>Population(in millions)</th>\n",
       "    </tr>\n",
       "  </thead>\n",
       "  <tbody>\n",
       "    <tr>\n",
       "      <th>0</th>\n",
       "      <td>Ghana</td>\n",
       "      <td>Accra</td>\n",
       "      <td>31.07</td>\n",
       "    </tr>\n",
       "    <tr>\n",
       "      <th>1</th>\n",
       "      <td>Nigeria</td>\n",
       "      <td>Abuja</td>\n",
       "      <td>206.14</td>\n",
       "    </tr>\n",
       "    <tr>\n",
       "      <th>2</th>\n",
       "      <td>Cote d'Ivoire</td>\n",
       "      <td>Yamoussoukro</td>\n",
       "      <td>26.38</td>\n",
       "    </tr>\n",
       "    <tr>\n",
       "      <th>3</th>\n",
       "      <td>Niger</td>\n",
       "      <td>Niamey</td>\n",
       "      <td>24.21</td>\n",
       "    </tr>\n",
       "    <tr>\n",
       "      <th>4</th>\n",
       "      <td>Burkina Faso</td>\n",
       "      <td>Ouagadougou</td>\n",
       "      <td>20.90</td>\n",
       "    </tr>\n",
       "    <tr>\n",
       "      <th>5</th>\n",
       "      <td>Mali</td>\n",
       "      <td>Bamako</td>\n",
       "      <td>20.25</td>\n",
       "    </tr>\n",
       "    <tr>\n",
       "      <th>6</th>\n",
       "      <td>Senegal</td>\n",
       "      <td>Dakar</td>\n",
       "      <td>16.74</td>\n",
       "    </tr>\n",
       "    <tr>\n",
       "      <th>7</th>\n",
       "      <td>Guinea</td>\n",
       "      <td>Conakry</td>\n",
       "      <td>13.13</td>\n",
       "    </tr>\n",
       "    <tr>\n",
       "      <th>8</th>\n",
       "      <td>Benin</td>\n",
       "      <td>Porto-Novo</td>\n",
       "      <td>12.12</td>\n",
       "    </tr>\n",
       "    <tr>\n",
       "      <th>9</th>\n",
       "      <td>Togo</td>\n",
       "      <td>Lome</td>\n",
       "      <td>8.28</td>\n",
       "    </tr>\n",
       "    <tr>\n",
       "      <th>10</th>\n",
       "      <td>Sierra Leone</td>\n",
       "      <td>Freetown</td>\n",
       "      <td>7.98</td>\n",
       "    </tr>\n",
       "    <tr>\n",
       "      <th>11</th>\n",
       "      <td>Liberia</td>\n",
       "      <td>Monrovia</td>\n",
       "      <td>5.06</td>\n",
       "    </tr>\n",
       "    <tr>\n",
       "      <th>12</th>\n",
       "      <td>Mauritania</td>\n",
       "      <td>Nouakchott</td>\n",
       "      <td>4.65</td>\n",
       "    </tr>\n",
       "    <tr>\n",
       "      <th>13</th>\n",
       "      <td>Gambia</td>\n",
       "      <td>Banjul</td>\n",
       "      <td>2.42</td>\n",
       "    </tr>\n",
       "    <tr>\n",
       "      <th>14</th>\n",
       "      <td>Guinea Bissau</td>\n",
       "      <td>Bissau</td>\n",
       "      <td>1.97</td>\n",
       "    </tr>\n",
       "    <tr>\n",
       "      <th>15</th>\n",
       "      <td>Cape Verde</td>\n",
       "      <td>praia</td>\n",
       "      <td>0.55</td>\n",
       "    </tr>\n",
       "  </tbody>\n",
       "</table>\n",
       "</div>"
      ],
      "text/plain": [
       "        Countries  Capital City  Population(in millions)\n",
       "0           Ghana         Accra                    31.07\n",
       "1         Nigeria         Abuja                   206.14\n",
       "2   Cote d'Ivoire  Yamoussoukro                    26.38\n",
       "3           Niger        Niamey                    24.21\n",
       "4    Burkina Faso   Ouagadougou                    20.90\n",
       "5            Mali        Bamako                    20.25\n",
       "6         Senegal         Dakar                    16.74\n",
       "7          Guinea       Conakry                    13.13\n",
       "8           Benin    Porto-Novo                    12.12\n",
       "9            Togo          Lome                     8.28\n",
       "10   Sierra Leone      Freetown                     7.98\n",
       "11        Liberia      Monrovia                     5.06\n",
       "12     Mauritania    Nouakchott                     4.65\n",
       "13         Gambia        Banjul                     2.42\n",
       "14  Guinea Bissau        Bissau                     1.97\n",
       "15     Cape Verde         praia                     0.55"
      ]
     },
     "execution_count": 35,
     "metadata": {},
     "output_type": "execute_result"
    }
   ],
   "source": [
    "west_africa_countries = [\"Ghana\",\"Nigeria\",\"Cote d'Ivoire\",\"Niger\",\"Burkina Faso\",\"Mali\",\"Senegal\",\n",
    "                        \"Guinea\",\"Benin\",\"Togo\",\"Sierra Leone\",\"Liberia\",\"Mauritania\",\"Gambia\",\"Guinea Bissau\",\"Cape Verde\"]\n",
    "\n",
    "capital = [\"Accra\",\"Abuja\",\"Yamoussoukro\",\"Niamey\",\"Ouagadougou\",\"Bamako\",\"Dakar\",\"Conakry\",\"Porto-Novo\",\n",
    "           \"Lome\",\"Freetown\",\"Monrovia\",\"Nouakchott\",\"Banjul\",\"Bissau\",\"praia\"] \n",
    "\n",
    "population = [31.07,206.14,26.38,24.21,20.90,20.25,16.74,13.13,12.12,8.28,7.98,5.06,4.65,2.42,1.97,0.55]\n",
    "\n",
    "countries = pd.DataFrame({'Countries':west_africa_countries, 'Capital City':capital, 'Population(in millions)':population})\n",
    "countries\n"
   ]
  },
  {
   "cell_type": "code",
   "execution_count": 36,
   "id": "766a7d37",
   "metadata": {},
   "outputs": [
    {
     "data": {
      "text/html": [
       "<div>\n",
       "<style scoped>\n",
       "    .dataframe tbody tr th:only-of-type {\n",
       "        vertical-align: middle;\n",
       "    }\n",
       "\n",
       "    .dataframe tbody tr th {\n",
       "        vertical-align: top;\n",
       "    }\n",
       "\n",
       "    .dataframe thead th {\n",
       "        text-align: right;\n",
       "    }\n",
       "</style>\n",
       "<table border=\"1\" class=\"dataframe\">\n",
       "  <thead>\n",
       "    <tr style=\"text-align: right;\">\n",
       "      <th></th>\n",
       "      <th>1</th>\n",
       "      <th>2</th>\n",
       "      <th>3</th>\n",
       "      <th>4</th>\n",
       "      <th>5</th>\n",
       "      <th>6</th>\n",
       "      <th>7</th>\n",
       "    </tr>\n",
       "  </thead>\n",
       "  <tbody>\n",
       "    <tr>\n",
       "      <th>Team</th>\n",
       "      <td>Hearts of Oak</td>\n",
       "      <td>Asante kotoko</td>\n",
       "      <td>Ebusua Dwarfs</td>\n",
       "      <td>Sekondi Hassacas</td>\n",
       "      <td>Okwahu United</td>\n",
       "      <td>Tano Bofoakwa</td>\n",
       "      <td>BA United</td>\n",
       "    </tr>\n",
       "    <tr>\n",
       "      <th>GF</th>\n",
       "      <td>120</td>\n",
       "      <td>90</td>\n",
       "      <td>90</td>\n",
       "      <td>80</td>\n",
       "      <td>78</td>\n",
       "      <td>70</td>\n",
       "      <td>71</td>\n",
       "    </tr>\n",
       "    <tr>\n",
       "      <th>GA</th>\n",
       "      <td>35</td>\n",
       "      <td>55</td>\n",
       "      <td>60</td>\n",
       "      <td>43</td>\n",
       "      <td>39</td>\n",
       "      <td>50</td>\n",
       "      <td>55</td>\n",
       "    </tr>\n",
       "    <tr>\n",
       "      <th>PTS</th>\n",
       "      <td>80</td>\n",
       "      <td>60</td>\n",
       "      <td>60</td>\n",
       "      <td>55</td>\n",
       "      <td>53</td>\n",
       "      <td>49</td>\n",
       "      <td>44</td>\n",
       "    </tr>\n",
       "  </tbody>\n",
       "</table>\n",
       "</div>"
      ],
      "text/plain": [
       "                  1              2              3                 4  \\\n",
       "Team  Hearts of Oak  Asante kotoko  Ebusua Dwarfs  Sekondi Hassacas   \n",
       "GF              120             90             90                80   \n",
       "GA               35             55             60                43   \n",
       "PTS              80             60             60                55   \n",
       "\n",
       "                  5              6          7  \n",
       "Team  Okwahu United  Tano Bofoakwa  BA United  \n",
       "GF               78             70         71  \n",
       "GA               39             50         55  \n",
       "PTS              53             49         44  "
      ]
     },
     "execution_count": 36,
     "metadata": {},
     "output_type": "execute_result"
    }
   ],
   "source": [
    "data = {1:{'Team':'Hearts of Oak','GF':120,'GA':35,'PTS':80}, 2:{'Team':'Asante kotoko','GF':90,'GA':55,'PTS':60},\n",
    "       3:{'Team':'Ebusua Dwarfs','GF':90,'GA':60,'PTS':60}, 4:{'Team':'Sekondi Hassacas','GF':80,'GA':43,'PTS':55},\n",
    "       5:{'Team':'Okwahu United','GF':78,'GA':39,'PTS':53}, 6:{'Team':'Tano Bofoakwa','GF':70,'GA':50,'PTS':49},\n",
    "       7:{'Team':'BA United','GF':71,'GA':55,'PTS':44}}\n",
    "data = pd.DataFrame(data )\n",
    "data"
   ]
  },
  {
   "cell_type": "code",
   "execution_count": 37,
   "id": "a144d8a5",
   "metadata": {},
   "outputs": [
    {
     "name": "stdout",
     "output_type": "stream",
     "text": [
      "Hearts of Oak: GF = 120, GA = 35, PTS = 80\n",
      "Asante kotoko: GF = 90, GA = 55, PTS = 60\n",
      "Ebusua Dwarfs: GF = 90, GA = 60, PTS = 60\n",
      "Sekondi Hassacas: GF = 80, GA = 43, PTS = 55\n",
      "Okwahu United: GF = 78, GA = 39, PTS = 53\n",
      "Tano Bofoakwa: GF = 70, GA = 50, PTS = 49\n",
      "BA United: GF = 71, GA = 55, PTS = 44\n"
     ]
    }
   ],
   "source": [
    "for key, value in data.items():\n",
    "    print(f\"{value['Team']}: GF = {value['GF']}, GA = {value['GA']}, PTS = {value['PTS']}\")"
   ]
  },
  {
   "cell_type": "code",
   "execution_count": 38,
   "id": "9dc3fc01",
   "metadata": {},
   "outputs": [
    {
     "name": "stdout",
     "output_type": "stream",
     "text": [
      "                  1\n",
      "Team  Hearts of Oak\n",
      "GF              120\n",
      "GA               35\n",
      "PTS              80\n",
      "                  2\n",
      "Team  Asante kotoko\n",
      "GF               90\n",
      "GA               55\n",
      "PTS              60\n",
      "                  3\n",
      "Team  Ebusua Dwarfs\n",
      "GF               90\n",
      "GA               60\n",
      "PTS              60\n",
      "                     4\n",
      "Team  Sekondi Hassacas\n",
      "GF                  80\n",
      "GA                  43\n",
      "PTS                 55\n",
      "                  5\n",
      "Team  Okwahu United\n",
      "GF               78\n",
      "GA               39\n",
      "PTS              53\n",
      "                  6\n",
      "Team  Tano Bofoakwa\n",
      "GF               70\n",
      "GA               50\n",
      "PTS              49\n",
      "              7\n",
      "Team  BA United\n",
      "GF           71\n",
      "GA           55\n",
      "PTS          44\n"
     ]
    }
   ],
   "source": [
    "for key, value in data.items():\n",
    "    if value['GA'] > 30: \n",
    "        print(pd.DataFrame(value))"
   ]
  },
  {
   "cell_type": "code",
   "execution_count": 39,
   "id": "29a90163",
   "metadata": {},
   "outputs": [
    {
     "name": "stdout",
     "output_type": "stream",
     "text": [
      "                  5\n",
      "Team  Okwahu United\n",
      "GF               78\n",
      "GA               39\n",
      "PTS              53\n",
      "                  6\n",
      "Team  Tano Bofoakwa\n",
      "GF               70\n",
      "GA               50\n",
      "PTS              49\n",
      "              7\n",
      "Team  BA United\n",
      "GF           71\n",
      "GA           55\n",
      "PTS          44\n"
     ]
    }
   ],
   "source": [
    "for key, value in data.items():\n",
    "    if value['GF'] < 80:\n",
    "        print(pd.DataFrame(value))"
   ]
  },
  {
   "cell_type": "code",
   "execution_count": 40,
   "id": "574dc792",
   "metadata": {},
   "outputs": [
    {
     "name": "stdout",
     "output_type": "stream",
     "text": [
      "                     4\n",
      "Team  Sekondi Hassacas\n",
      "GF                  80\n",
      "GA                  43\n",
      "PTS                 55\n",
      "                  5\n",
      "Team  Okwahu United\n",
      "GF               78\n",
      "GA               39\n",
      "PTS              53\n",
      "                  6\n",
      "Team  Tano Bofoakwa\n",
      "GF               70\n",
      "GA               50\n",
      "PTS              49\n",
      "              7\n",
      "Team  BA United\n",
      "GF           71\n",
      "GA           55\n",
      "PTS          44\n"
     ]
    }
   ],
   "source": [
    "for key, value in data.items():\n",
    "    if value['PTS'] < 60:\n",
    "        print(pd.DataFrame(value))"
   ]
  },
  {
   "cell_type": "code",
   "execution_count": null,
   "id": "98317ad7",
   "metadata": {},
   "outputs": [],
   "source": []
  },
  {
   "cell_type": "code",
   "execution_count": null,
   "id": "ff2842a0",
   "metadata": {},
   "outputs": [],
   "source": []
  },
  {
   "cell_type": "code",
   "execution_count": null,
   "id": "c15ce8f2",
   "metadata": {},
   "outputs": [],
   "source": [
    "\n"
   ]
  },
  {
   "cell_type": "code",
   "execution_count": null,
   "id": "cec670fa",
   "metadata": {},
   "outputs": [],
   "source": [
    "\n"
   ]
  }
 ],
 "metadata": {
  "kernelspec": {
   "display_name": "Python 3 (ipykernel)",
   "language": "python",
   "name": "python3"
  },
  "language_info": {
   "codemirror_mode": {
    "name": "ipython",
    "version": 3
   },
   "file_extension": ".py",
   "mimetype": "text/x-python",
   "name": "python",
   "nbconvert_exporter": "python",
   "pygments_lexer": "ipython3",
   "version": "3.9.13"
  }
 },
 "nbformat": 4,
 "nbformat_minor": 5
}
