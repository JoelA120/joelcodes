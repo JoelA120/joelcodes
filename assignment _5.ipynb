{
 "cells": [
  {
   "cell_type": "code",
   "execution_count": 9,
   "id": "a7fd79bb",
   "metadata": {},
   "outputs": [],
   "source": [
    "import numpy as np\n",
    "import pandas as pd"
   ]
  },
  {
   "cell_type": "code",
   "execution_count": 10,
   "id": "e628e9cf",
   "metadata": {},
   "outputs": [
    {
     "data": {
      "text/plain": [
       "array([9, 8, 0, 5, 1])"
      ]
     },
     "execution_count": 10,
     "metadata": {},
     "output_type": "execute_result"
    }
   ],
   "source": [
    "vt = np.random.randint(0,11,5)\n",
    "vt"
   ]
  },
  {
   "cell_type": "code",
   "execution_count": 31,
   "id": "c7164531",
   "metadata": {},
   "outputs": [
    {
     "data": {
      "text/plain": [
       "array([15, 16, 17, 18, 19, 20, 21, 22, 23, 24, 25, 26, 27, 28, 29, 30, 31,\n",
       "       32, 33, 34, 35, 36, 37, 38, 39, 40, 41, 42, 43, 44, 45, 46, 47, 48,\n",
       "       49, 50, 51, 52, 53, 54, 55])"
      ]
     },
     "execution_count": 31,
     "metadata": {},
     "output_type": "execute_result"
    }
   ],
   "source": [
    "gj = np.arange(15,56,1)\n",
    "gj"
   ]
  },
  {
   "cell_type": "code",
   "execution_count": 11,
   "id": "5fce4922",
   "metadata": {},
   "outputs": [
    {
     "name": "stdout",
     "output_type": "stream",
     "text": [
      "[16 17 18 19 20 21 22 23 24 25 26 27 28 29 30 31 32 33 34 35 36 37 38 39\n",
      " 40 41 42 43 44 45 46 47 48 49 50 51 52 53 54]\n"
     ]
    }
   ],
   "source": [
    "vtt = np.arange(15,56)\n",
    "print(vtt[1:-1])"
   ]
  },
  {
   "cell_type": "code",
   "execution_count": 12,
   "id": "79eca88d",
   "metadata": {
    "scrolled": true
   },
   "outputs": [
    {
     "data": {
      "text/plain": [
       "41"
      ]
     },
     "execution_count": 12,
     "metadata": {},
     "output_type": "execute_result"
    }
   ],
   "source": [
    "len(vtt)"
   ]
  },
  {
   "cell_type": "code",
   "execution_count": 41,
   "id": "c9df9bb4",
   "metadata": {},
   "outputs": [
    {
     "name": "stdout",
     "output_type": "stream",
     "text": [
      "[54 82 26 28  5 25 55 78 16 68  6 30 77 25 74 29 70 85  2 42 36  6 54 47\n",
      " 75 18 43 45 37 82 57 29  5 46 39 34 69 24 44  8 23  7 64 64  3 58  2 31\n",
      " 45 38 24 49 79 44 57 45 57 32 44 62 38 53  2 75 14 35  6 33  1 49 14 71\n",
      " 82 75 32 16 64 58 42 77 29 51 68 12 54 68 66 50 62 32 77 44 76 75 45 44\n",
      " 22 43 16 65 59 17  5 85 21 42 18  5 14 62 25 63 76 76 36 69 34  3 13 76\n",
      " 84 33 44 59 19 67 54 62  8 28 75  9 75 69 24 41 40 54 37 52 18 28 56 32\n",
      " 11 71 52 52 17 57 67 61 38 75 39 52 30 69 55  7 66 16  9 79 81 40  3 71\n",
      " 16 57  9 40 43 17 75 51 60 36 13  9 85 82 46 31 82 82 57 32 11 13 68  4\n",
      " 50 21 32 49 44 41 63 39 42 56 66 45 26  5 78 33 84  9 72 85 84 76  9 83\n",
      " 60 78 55 30 35 28 15 40 39  9 13  3 52 82 42 49 36 82  3  5 12 20 69 32\n",
      " 70  9 52 63 33 17 52 21 70 43 46 64  8 70 22  4  2 52  9 26  5 62 48  9\n",
      " 18 21 31 41 39 47 34 43  2 12  4 79 40 23 61 23 78 30 54 47 70 44 52 52\n",
      " 22  8 76 80  2 58 47 26 10 40 62 65 78 66 50 48 75 74 42 63 23 13 22 29\n",
      " 45 75 64 11 84 26 74 39 38 65 65 23 33  3 29 28 46 23  5 55 82 76 75 66\n",
      "  7 59 25 17 22 71 40 82 18 11 62 80 78  9  9 63 44  5  4 74 26  1 55 55\n",
      "  4 16 49 78 76 74 52 30  2 22 12 65 53 58 45 82 29 65  4 12 52 11 34  2\n",
      " 78 41  4 24 73 76 34 33 76 54 74 39 42 67 57 69 38 72 56 82  8 27 53 54\n",
      " 67 78  2 49 68 84 33 49  6 42 16 60 30 42 80 34 24 73 32 57 56 35 73 51\n",
      " 80 36 57 15 67 18  3 24 61 62 48 61 68 68 45 23 57 49 22 49 59 42 58 21\n",
      " 28 28 70 17 61  2 65 13 70  1 57  7 30 26 21  1 42 40  9 41 69 28  9  5\n",
      " 85 81  9 27 47 22 31  3 72 81  5 46 79 28 63  8 15 63 35 53 80 51 24 14\n",
      " 73 44 28  6 30 73 42 33  9 27 64  7 55 44 39 78 60 59 75 25 10 21 66 41\n",
      " 11 76 41 47 51 62 66 37 20 64 71 35 32 23 73 46 29 16 84 56  9 53 76 27\n",
      " 55 67 24 67 82 42 78 56 54 79  6 52 83 85  4 15 42 10 16 11 61 47 72 21\n",
      " 44 30 81 45 61 13 15  2 51 21 10 36 55 78 31 24 41 27 22 37 79 71 12 50\n",
      " 16 36 10 47 64 56 15  1 55 41 47 53 73 77 66 74 76 17 48 33 16 31 36 20\n",
      " 75 16 12 67 69 52  4 20 30 75 13  7 34 54 63 55 44  7 27 27 75 82 36 60\n",
      "  9 11 79 13 27 63 80 84 49 26 22 11  3 83 68 48 51 43 56 32 59 26 81 38\n",
      " 32 26 22 37 27 24  7 15 76 70 19 36  9 65 79 38 10 37 64 34  2 66 65 49\n",
      " 54  5 69 58 61 14 24 80 80 61 69 19 66 64 22 57 59 42 34 28 15 15 36 62\n",
      "  8 52 18 14 38 40 10 37 61 32  5 63 45  7 65  4 57  6  3  8 55 67 15 43\n",
      " 75 84 72 24 61 40 66 52  2 33 63 16 56 78 12 47 13 83 72 28 15 51 16 61\n",
      "  7 32 29 57 48  5 52 24 33  6 72  2 76 73 39 27 47 24 10 75 75  9 45 50\n",
      " 18  1 67 26 40 14 33 44 41 68 15 27 26 13 22 73 64 66 54 35 77 53 63 28\n",
      "  1 64 84 21 10 83 15 27 80 38 16 23 13 75 65 84 82 21 70 28 54 40 51 38\n",
      " 28 68 43 66 18 27 32 72 68  4 18 22 20 80 82 27 72 21 22 75 36 23 41 50\n",
      " 82 71 59 80 61 62 79 11 52  9 70 73 12 60  1 34 50 81  4 69 29 84 10 52\n",
      " 85 56 34 25  7 12 40 19 56 48 42 19 72 53 63  6 74 16 78 16 85 69 57 63\n",
      " 36 41  5 76 74 82 83 56 67 29 63 38 80 12 32 48 46 47 83 49 63 55 30 25\n",
      " 33 30 42 44 60 33 40 55 35 69 48 39 32 68 35 85 60 76  3 55 48 45 36 24\n",
      " 74  7 63 35 55 35 40 33  7 23 67 37 49 18  3 55 51 75 63 77 70 52 18 85\n",
      " 44 64 70  7 84 39 32 43 40  4 82 76 42 45 57 33]\n"
     ]
    }
   ],
   "source": [
    "ghg = np.random.randint(1,86,1000)\n",
    "print(ghg)"
   ]
  },
  {
   "cell_type": "code",
   "execution_count": 42,
   "id": "6b258d29",
   "metadata": {},
   "outputs": [
    {
     "data": {
      "text/plain": [
       "43.077"
      ]
     },
     "execution_count": 42,
     "metadata": {},
     "output_type": "execute_result"
    }
   ],
   "source": [
    "bee = np.average(ghg)\n",
    "bee"
   ]
  },
  {
   "cell_type": "code",
   "execution_count": 43,
   "id": "13a001cd",
   "metadata": {},
   "outputs": [
    {
     "data": {
      "text/plain": [
       "595.123071"
      ]
     },
     "execution_count": 43,
     "metadata": {},
     "output_type": "execute_result"
    }
   ],
   "source": [
    "beee = np.var(ghg)\n",
    "beee"
   ]
  },
  {
   "cell_type": "code",
   "execution_count": 44,
   "id": "28d064ed",
   "metadata": {},
   "outputs": [
    {
     "data": {
      "text/plain": [
       "24.39514441441165"
      ]
     },
     "execution_count": 44,
     "metadata": {},
     "output_type": "execute_result"
    }
   ],
   "source": [
    "gt = np.std(ghg)\n",
    "gt"
   ]
  },
  {
   "cell_type": "code",
   "execution_count": 45,
   "id": "ec19c8f8",
   "metadata": {},
   "outputs": [
    {
     "name": "stdout",
     "output_type": "stream",
     "text": [
      "average: 43.077 variance: 595.123071 standard deviation: 24.39514441441165\n"
     ]
    }
   ],
   "source": [
    "print('average:',bee,'variance:',beee,'standard deviation:',gt)"
   ]
  },
  {
   "cell_type": "code",
   "execution_count": 46,
   "id": "8856e392",
   "metadata": {},
   "outputs": [
    {
     "data": {
      "text/plain": [
       "array([[1, 2, 3],\n",
       "       [5, 6, 4],\n",
       "       [9, 8, 7]])"
      ]
     },
     "execution_count": 46,
     "metadata": {},
     "output_type": "execute_result"
    }
   ],
   "source": [
    "arr = np.array([[1,2,3],[5,6,4],[9,8,7]])\n",
    "arr"
   ]
  },
  {
   "cell_type": "code",
   "execution_count": 47,
   "id": "7c546c07",
   "metadata": {},
   "outputs": [
    {
     "name": "stdout",
     "output_type": "stream",
     "text": [
      "sum over rows\n",
      " [[ 1  2  3]\n",
      " [ 6  8  7]\n",
      " [15 16 14]]\n"
     ]
    }
   ],
   "source": [
    "yu = np.cumsum(arr, axis = 0)\n",
    "print('sum over rows\\n',yu)"
   ]
  },
  {
   "cell_type": "code",
   "execution_count": 48,
   "id": "fc7e8fbb",
   "metadata": {},
   "outputs": [
    {
     "name": "stdout",
     "output_type": "stream",
     "text": [
      "sum over columns\n",
      " [[ 1  3  6]\n",
      " [ 5 11 15]\n",
      " [ 9 17 24]]\n"
     ]
    }
   ],
   "source": [
    "yy = np.cumsum(arr, axis = 1)\n",
    "print('sum over columns\\n',yy)"
   ]
  },
  {
   "cell_type": "code",
   "execution_count": 49,
   "id": "c2058b1f",
   "metadata": {},
   "outputs": [
    {
     "data": {
      "text/plain": [
       "array([[791, 124],\n",
       "       [152,  28]])"
      ]
     },
     "execution_count": 49,
     "metadata": {},
     "output_type": "execute_result"
    }
   ],
   "source": [
    "mat = np.array([[9,11],[3,2]])\n",
    "mat1 = np.array([[6,4],[67,8]])\n",
    "product = np.dot(mat,mat1)\n",
    "product"
   ]
  },
  {
   "cell_type": "code",
   "execution_count": null,
   "id": "7218d132",
   "metadata": {},
   "outputs": [],
   "source": []
  }
 ],
 "metadata": {
  "kernelspec": {
   "display_name": "Python 3 (ipykernel)",
   "language": "python",
   "name": "python3"
  },
  "language_info": {
   "codemirror_mode": {
    "name": "ipython",
    "version": 3
   },
   "file_extension": ".py",
   "mimetype": "text/x-python",
   "name": "python",
   "nbconvert_exporter": "python",
   "pygments_lexer": "ipython3",
   "version": "3.9.13"
  }
 },
 "nbformat": 4,
 "nbformat_minor": 5
}
