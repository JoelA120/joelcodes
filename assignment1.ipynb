{
 "cells": [
  {
   "cell_type": "code",
   "execution_count": 1,
   "id": "3441a97c",
   "metadata": {},
   "outputs": [
    {
     "name": "stdout",
     "output_type": "stream",
     "text": [
      "enter number:6\n",
      "6 x 1 = 6\n",
      "6 x 2 = 12\n",
      "6 x 3 = 18\n",
      "6 x 4 = 24\n",
      "6 x 5 = 30\n",
      "6 x 6 = 36\n",
      "6 x 7 = 42\n",
      "6 x 8 = 48\n",
      "6 x 9 = 54\n",
      "6 x 10 = 60\n",
      "6 x 11 = 66\n",
      "6 x 12 = 72\n",
      "6 x 13 = 78\n",
      "6 x 14 = 84\n",
      "6 x 15 = 90\n",
      "6 x 16 = 96\n",
      "6 x 17 = 102\n",
      "6 x 18 = 108\n",
      "6 x 19 = 114\n",
      "6 x 20 = 120\n",
      "6 x 21 = 126\n",
      "6 x 22 = 132\n",
      "6 x 23 = 138\n",
      "6 x 24 = 144\n",
      "6 x 25 = 150\n",
      "6 x 26 = 156\n",
      "6 x 27 = 162\n",
      "6 x 28 = 168\n",
      "6 x 29 = 174\n",
      "6 x 30 = 180\n",
      "6 x 31 = 186\n",
      "6 x 32 = 192\n",
      "6 x 33 = 198\n",
      "6 x 34 = 204\n",
      "6 x 35 = 210\n",
      "6 x 36 = 216\n",
      "6 x 37 = 222\n",
      "6 x 38 = 228\n",
      "6 x 39 = 234\n",
      "6 x 40 = 240\n",
      "6 x 41 = 246\n",
      "6 x 42 = 252\n",
      "6 x 43 = 258\n",
      "6 x 44 = 264\n"
     ]
    }
   ],
   "source": [
    "number=int(input(\"enter number:\"))\n",
    "for i in range(1,45):\n",
    "    print(number,'x',i,'=',number*i)"
   ]
  },
  {
   "cell_type": "code",
   "execution_count": null,
   "id": "9e2e3ade",
   "metadata": {},
   "outputs": [],
   "source": []
  }
 ],
 "metadata": {
  "kernelspec": {
   "display_name": "Python 3 (ipykernel)",
   "language": "python",
   "name": "python3"
  },
  "language_info": {
   "codemirror_mode": {
    "name": "ipython",
    "version": 3
   },
   "file_extension": ".py",
   "mimetype": "text/x-python",
   "name": "python",
   "nbconvert_exporter": "python",
   "pygments_lexer": "ipython3",
   "version": "3.9.13"
  }
 },
 "nbformat": 4,
 "nbformat_minor": 5
}
